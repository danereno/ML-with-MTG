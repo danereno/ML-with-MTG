{
  "nbformat": 4,
  "nbformat_minor": 0,
  "metadata": {
    "colab": {
      "name": "project.ipynb",
      "provenance": [],
      "collapsed_sections": [],
      "machine_shape": "hm",
      "mount_file_id": "1ekJMYr6WhBgz7pxqBRth5NOzr_dDVVsC",
      "authorship_tag": "ABX9TyNbf0ll5VTppZVua2lBFpTX",
      "include_colab_link": true
    },
    "kernelspec": {
      "name": "python3",
      "display_name": "Python 3"
    },
    "accelerator": "GPU"
  },
  "cells": [
    {
      "cell_type": "markdown",
      "metadata": {
        "id": "view-in-github",
        "colab_type": "text"
      },
      "source": [
        "<a href=\"https://colab.research.google.com/github/danereno/ML-with-MTG/blob/master/project.ipynb\" target=\"_parent\"><img src=\"https://colab.research.google.com/assets/colab-badge.svg\" alt=\"Open In Colab\"/></a>"
      ]
    },
    {
      "cell_type": "markdown",
      "metadata": {
        "id": "6nGMT0kb4lL-",
        "colab_type": "text"
      },
      "source": [
        "# Introduction"
      ]
    },
    {
      "cell_type": "markdown",
      "metadata": {
        "id": "B2FSaKgZ-m41",
        "colab_type": "text"
      },
      "source": [
        "## *What is this project?*"
      ]
    },
    {
      "cell_type": "markdown",
      "metadata": {
        "id": "3NCfkcVyBFbO",
        "colab_type": "text"
      },
      "source": [
        "This project is an attempt to generate cards from the trading card game Magic: The Gathering, using a recurrent neural network. The basis for the model itself is the Pokemon name generator we coded in class, though the way that data is gathered and formatted for this project is a little different. Similar projects to this have been attempted in the past:\n",
        "* [RoboRosewater Twitter Account](https://twitter.com/roborosewater?lang=en)\n",
        "* [Generating Magic cards using deep, recurrent neural networks](https://www.mtgsalvation.com/forums/magic-fundamentals/custom-card-creation/612057-generating-magic-cards-using-deep-recurrent-neural)\n",
        "* [MAGIC AI Generate custom Magic: The Gathering cards from an AI using GPT-2](https://minimaxir.com/apps/gpt2-mtg/)"
      ]
    },
    {
      "cell_type": "markdown",
      "metadata": {
        "id": "Yqhtj5_PNsdu",
        "colab_type": "text"
      },
      "source": [
        "## *What is a recurrent neural network?*"
      ]
    },
    {
      "cell_type": "markdown",
      "metadata": {
        "id": "AilInmD0Nxog",
        "colab_type": "text"
      },
      "source": [
        "An RNN is a variation of a neural network that is better at keeping track of previous data and using it to make future predictions. Our inputs do not have to all be of the same form, and can instead be sequences of variable length. The key quality of an RNN is that data is fedback into the network, allowing it to memorize parts of the input, as opposed to a standard feedforward neural network where data travels linearly through the model."
      ]
    },
    {
      "cell_type": "markdown",
      "metadata": {
        "id": "5qxAgNFy_XsD",
        "colab_type": "text"
      },
      "source": [
        "## *What's in a Magic: The Gathering card?*"
      ]
    },
    {
      "cell_type": "markdown",
      "metadata": {
        "id": "KsY8Q7v9DBte",
        "colab_type": "text"
      },
      "source": [
        "Magic: The Gathering cards come in a very wide variety. Very broadly, they can be split into two different categories: creature and non-creature cards. For this project, I've decided to use only creature cards to train the model.\n",
        "\n",
        "A Magic: The Gathering creature card has many features, however we are only concerned with the following:\n",
        "* Card Name\n",
        "* Mana Cost\n",
        "* Type Line\n",
        "* Card Text\n",
        "* Power/Toughness"
      ]
    },
    {
      "cell_type": "markdown",
      "metadata": {
        "id": "7AqjvPwsmCKQ",
        "colab_type": "text"
      },
      "source": [
        "![alt text](https://drive.google.com/uc?id=1kAojrAySim-RLTzx60kSjLdcs6AdqNPE)"
      ]
    },
    {
      "cell_type": "markdown",
      "metadata": {
        "id": "o1xuu1FtueNY",
        "colab_type": "text"
      },
      "source": [
        "### Card JSON Object"
      ]
    },
    {
      "cell_type": "code",
      "metadata": {
        "id": "KrTO2KnzmiTQ",
        "colab_type": "code",
        "colab": {}
      },
      "source": [
        "# {\n",
        "#   \"object\": \"card\",\n",
        "#   \"id\": \"4ba02df9-4ccd-4e0f-a1f2-f0f6c7fd6329\",\n",
        "#   \"oracle_id\": \"5fac139a-07d3-4e6c-98e3-d98b199f7a6f\",\n",
        "#   \"multiverse_ids\": [\n",
        "\n",
        "#   ],\n",
        "#   \"tcgplayer_id\": 204731,\n",
        "#   \"name\": \"Young Pyromancer\",\n",
        "#   \"lang\": \"en\",\n",
        "#   \"released_at\": \"2019-11-07\",\n",
        "#   \"uri\": \"https://api.scryfall.com/cards/4ba02df9-4ccd-4e0f-a1f2-f0f6c7fd6329\",\n",
        "#   \"scryfall_uri\": \"https://scryfall.com/card/mb1/1105/young-pyromancer?utm_source=api\",\n",
        "#   \"layout\": \"normal\",\n",
        "#   \"highres_image\": true,\n",
        "#   \"image_uris\": {\n",
        "#     \"small\": \"https://img.scryfall.com/cards/small/front/4/b/4ba02df9-4ccd-4e0f-a1f2-f0f6c7fd6329.jpg?1573512918\",\n",
        "#     \"normal\": \"https://img.scryfall.com/cards/normal/front/4/b/4ba02df9-4ccd-4e0f-a1f2-f0f6c7fd6329.jpg?1573512918\",\n",
        "#     \"large\": \"https://img.scryfall.com/cards/large/front/4/b/4ba02df9-4ccd-4e0f-a1f2-f0f6c7fd6329.jpg?1573512918\",\n",
        "#     \"png\": \"https://img.scryfall.com/cards/png/front/4/b/4ba02df9-4ccd-4e0f-a1f2-f0f6c7fd6329.png?1573512918\",\n",
        "#     \"art_crop\": \"https://img.scryfall.com/cards/art_crop/front/4/b/4ba02df9-4ccd-4e0f-a1f2-f0f6c7fd6329.jpg?1573512918\",\n",
        "#     \"border_crop\": \"https://img.scryfall.com/cards/border_crop/front/4/b/4ba02df9-4ccd-4e0f-a1f2-f0f6c7fd6329.jpg?1573512918\"\n",
        "#   },\n",
        "#   \"mana_cost\": \"{1}{R}\",\n",
        "#   \"cmc\": 2.0,\n",
        "#   \"type_line\": \"Creature — Human Shaman\",\n",
        "#   \"oracle_text\": \"Whenever you cast an instant or sorcery spell, create a 1/1 red Elemental creature token.\",\n",
        "#   \"power\": \"2\",\n",
        "#   \"toughness\": \"1\",\n",
        "#   \"colors\": [\n",
        "#     \"R\"\n",
        "#   ],\n",
        "#   \"color_identity\": [\n",
        "#     \"R\"\n",
        "#   ],\n",
        "#   \"legalities\": {\n",
        "#     \"standard\": \"not_legal\",\n",
        "#     \"future\": \"not_legal\",\n",
        "#     \"historic\": \"not_legal\",\n",
        "#     \"pioneer\": \"legal\",\n",
        "#     \"modern\": \"legal\",\n",
        "#     \"legacy\": \"legal\",\n",
        "#     \"pauper\": \"not_legal\",\n",
        "#     \"vintage\": \"legal\",\n",
        "#     \"penny\": \"not_legal\",\n",
        "#     \"commander\": \"legal\",\n",
        "#     \"brawl\": \"not_legal\",\n",
        "#     \"duel\": \"legal\",\n",
        "#     \"oldschool\": \"not_legal\"\n",
        "#   },\n",
        "#   \"games\": [\n",
        "#     \"paper\"\n",
        "#   ],\n",
        "#   \"reserved\": false,\n",
        "#   \"foil\": false,\n",
        "#   \"nonfoil\": true,\n",
        "#   \"oversized\": false,\n",
        "#   \"promo\": false,\n",
        "#   \"reprint\": true,\n",
        "#   \"variation\": false,\n",
        "#   \"set\": \"mb1\",\n",
        "#   \"set_name\": \"Mystery Booster\",\n",
        "#   \"set_type\": \"masters\",\n",
        "#   \"set_uri\": \"https://api.scryfall.com/sets/d13bfc70-6137-4179-aa96-da30fd84de29\",\n",
        "#   \"set_search_uri\": \"https://api.scryfall.com/cards/search?order=set&q=e%3Amb1&unique=prints\",\n",
        "#   \"scryfall_set_uri\": \"https://scryfall.com/sets/mb1?utm_source=api\",\n",
        "#   \"rulings_uri\": \"https://api.scryfall.com/cards/4ba02df9-4ccd-4e0f-a1f2-f0f6c7fd6329/rulings\",\n",
        "#   \"prints_search_uri\": \"https://api.scryfall.com/cards/search?order=released&q=oracleid%3A5fac139a-07d3-4e6c-98e3-d98b199f7a6f&unique=prints\",\n",
        "#   \"collector_number\": \"1105\",\n",
        "#   \"digital\": false,\n",
        "#   \"rarity\": \"uncommon\",\n",
        "#   \"flavor_text\": \"Immolation is the sincerest form of flattery.\",\n",
        "#   \"card_back_id\": \"0aeebaf5-8c7d-4636-9e82-8c27447861f7\",\n",
        "#   \"artist\": \"Cynthia Sheppard\",\n",
        "#   \"artist_ids\": [\n",
        "#     \"9dfbdd58-65e6-40cf-951a-80e141061939\"\n",
        "#   ],\n",
        "#   \"illustration_id\": \"b0e1818e-dfc6-4d26-93ff-bbb4b0d711e6\",\n",
        "#   \"border_color\": \"black\",\n",
        "#   \"frame\": \"2015\",\n",
        "#   \"full_art\": false,\n",
        "#   \"textless\": false,\n",
        "#   \"booster\": false,\n",
        "#   \"story_spotlight\": false,\n",
        "#   \"edhrec_rank\": 596,\n",
        "#   \"prices\": {\n",
        "#     \"usd\": \"0.71\",\n",
        "#     \"usd_foil\": null,\n",
        "#     \"eur\": null,\n",
        "#     \"tix\": null\n",
        "#   },\n",
        "#   \"related_uris\": {\n",
        "#     \"tcgplayer_decks\": \"https://decks.tcgplayer.com/magic/deck/search?contains=Young+Pyromancer&page=1&partner=Scryfall&utm_campaign=affiliate&utm_medium=api&utm_source=scryfall\",\n",
        "#     \"edhrec\": \"https://edhrec.com/route/?cc=Young+Pyromancer\",\n",
        "#     \"mtgtop8\": \"https://mtgtop8.com/search?MD_check=1&SB_check=1&cards=Young+Pyromancer\"\n",
        "#   },\n",
        "#   \"purchase_uris\": {\n",
        "#     \"tcgplayer\": \"https://shop.tcgplayer.com/product/productsearch?id=204731&partner=Scryfall&utm_campaign=affiliate&utm_medium=api&utm_source=scryfall\",\n",
        "#     \"cardmarket\": \"https://www.cardmarket.com/en/Magic/Products/Search?referrer=scryfall&searchString=Young+Pyromancer&utm_campaign=card_prices&utm_medium=text&utm_source=scryfall\",\n",
        "#     \"cardhoarder\": \"https://www.cardhoarder.com/cards?affiliate_id=scryfall&data%5Bsearch%5D=Young+Pyromancer&ref=card-profile&utm_campaign=affiliate&utm_medium=card&utm_source=scryfall\"\n",
        "#   }\n",
        "# }"
      ],
      "execution_count": null,
      "outputs": []
    },
    {
      "cell_type": "markdown",
      "metadata": {
        "id": "NOUgsDiU5pij",
        "colab_type": "text"
      },
      "source": [
        "# Structuring the Data"
      ]
    },
    {
      "cell_type": "code",
      "metadata": {
        "id": "t_T9QP7PNxe0",
        "colab_type": "code",
        "colab": {}
      },
      "source": [
        "import pandas as pd\n",
        "import numpy as np\n",
        "pd.set_option('display.max_colwidth', None)"
      ],
      "execution_count": null,
      "outputs": []
    },
    {
      "cell_type": "code",
      "metadata": {
        "id": "k1kOsiTRZFL1",
        "colab_type": "code",
        "colab": {
          "base_uri": "https://localhost:8080/",
          "height": 34
        },
        "outputId": "92c5d769-a7a2-4d1d-b113-e6c28bfa265c"
      },
      "source": [
        "data_path = '/content/drive/My Drive/Datasets Drive/final-project/scryfall-oracle-cards.json'\n",
        "data = pd.read_json(data_path)\n",
        "print('All done')"
      ],
      "execution_count": null,
      "outputs": [
        {
          "output_type": "stream",
          "text": [
            "All done\n"
          ],
          "name": "stdout"
        }
      ]
    },
    {
      "cell_type": "code",
      "metadata": {
        "id": "q9PnFOVSPo7I",
        "colab_type": "code",
        "colab": {}
      },
      "source": [
        "data = data[data.set_name != 'Unglued']\n",
        "data = data[data.set_name != 'Unhinged']\n",
        "data = data[data.set_name != 'Unstable']\n",
        "data = data[data.set_name != 'Unsanctioned']\n",
        "\n",
        "data = data[['name', 'mana_cost', 'type_line', 'oracle_text', 'power', 'toughness', 'colors']]\n",
        "data = data.drop_duplicates(subset='name', keep='first')\n",
        "\n",
        "data = data[data['type_line'].str.contains('Creature')]"
      ],
      "execution_count": null,
      "outputs": []
    },
    {
      "cell_type": "code",
      "metadata": {
        "id": "7I4dSiBfWETN",
        "colab_type": "code",
        "colab": {}
      },
      "source": [
        "data.loc[data['name'] == 'Young Pyromancer']"
      ],
      "execution_count": null,
      "outputs": []
    },
    {
      "cell_type": "code",
      "metadata": {
        "id": "lkNdZ1YiXzxJ",
        "colab_type": "code",
        "colab": {}
      },
      "source": [
        "def clean(field):\n",
        "    return field.to_string(index=False).strip()\n",
        "\n",
        "def construct_card(card):\n",
        "    text = clean(card.name) + ' ' + clean(card.mana_cost) + '\\n'\n",
        "    text += clean(card.colors) + ' ' + clean(card.type_line) + '\\n'\n",
        "    text += clean(card.oracle_text)\n",
        "    if not clean(card.power) == 'NaN' and not clean(card.toughness) == 'Nan':\n",
        "        text += '\\n' + clean(card.power) + '/' + clean(card.toughness)\n",
        "    return text.replace('\\\\n', '\\n')"
      ],
      "execution_count": null,
      "outputs": []
    },
    {
      "cell_type": "code",
      "metadata": {
        "id": "XMHLfMD2aCh_",
        "colab_type": "code",
        "colab": {
          "base_uri": "https://localhost:8080/",
          "height": 85
        },
        "outputId": "dbf698e6-5db1-4943-8842-0b35c3a1b599"
      },
      "source": [
        "card = data.loc[data['name'] == 'Young Pyromancer']\n",
        "print(construct_card(card))"
      ],
      "execution_count": null,
      "outputs": [
        {
          "output_type": "stream",
          "text": [
            "Young Pyromancer {1}{R}\n",
            "[R] Creature — Human Shaman\n",
            "Whenever you cast an instant or sorcery spell, create a 1/1 red Elemental creature token.\n",
            "2/1\n"
          ],
          "name": "stdout"
        }
      ]
    },
    {
      "cell_type": "code",
      "metadata": {
        "id": "wr-7urwjjlem",
        "colab_type": "code",
        "colab": {}
      },
      "source": [
        "card_list = []\n",
        "for name in data['name']:\n",
        "    card = data.loc[data['name'] == name]\n",
        "    card_list.append(construct_card(card))"
      ],
      "execution_count": null,
      "outputs": []
    },
    {
      "cell_type": "markdown",
      "metadata": {
        "id": "tiqq6VRc5fhr",
        "colab_type": "text"
      },
      "source": [
        "# Training the Model"
      ]
    },
    {
      "cell_type": "code",
      "metadata": {
        "id": "2rKzy1ElX82D",
        "colab_type": "code",
        "colab": {}
      },
      "source": [
        "from tensorflow.keras.models import Sequential\n",
        "from tensorflow.keras.layers import Dense, Activation, LSTM, TimeDistributed"
      ],
      "execution_count": null,
      "outputs": []
    },
    {
      "cell_type": "code",
      "metadata": {
        "id": "vcqpMDKVYpWE",
        "colab_type": "code",
        "colab": {}
      },
      "source": [
        "epochs = 100\n",
        "batch_size = 64\n",
        "n_layers = 2\n",
        "hidden_dim = 128"
      ],
      "execution_count": null,
      "outputs": []
    },
    {
      "cell_type": "code",
      "metadata": {
        "id": "3_hSrL-kayoP",
        "colab_type": "code",
        "colab": {}
      },
      "source": [
        "min_card_len = len(min(card_list, key=len))\n",
        "max_card_len = len(max(card_list, key=len))\n",
        "\n",
        "chars = sorted(list(set([char for card in card_list for char in card])))\n",
        "\n",
        "vocab_size = len(chars)\n",
        "n = len(card_list)\n",
        "\n",
        "ix_to_char = {ix: char for ix, char in enumerate(chars)}\n",
        "char_to_ix = {char: ix for ix, char in enumerate(chars)}"
      ],
      "execution_count": null,
      "outputs": []
    },
    {
      "cell_type": "code",
      "metadata": {
        "id": "RyjicoirjbxQ",
        "colab_type": "code",
        "colab": {}
      },
      "source": [
        "X = np.zeros((n, max_card_len, vocab_size))\n",
        "Y = np.zeros((n, max_card_len, vocab_size))\n",
        "\n",
        "for i in range(n):\n",
        "    chars = list(card_list[i])\n",
        "    for j in range(len(chars)):\n",
        "        char_ix = char_to_ix[chars[j]]\n",
        "        X[i, j, char_ix] = 1\n",
        "        if j > 0:\n",
        "            Y[i, j - 1, char_ix] = 1"
      ],
      "execution_count": null,
      "outputs": []
    },
    {
      "cell_type": "code",
      "metadata": {
        "id": "waVi4sAjbYJw",
        "colab_type": "code",
        "colab": {}
      },
      "source": [
        "model = Sequential()\n",
        "model.add(LSTM(hidden_dim,\n",
        "              input_shape=(max_card_len, vocab_size),\n",
        "              return_sequences=True))\n",
        "for i in range(n_layers - 1):\n",
        "    model.add(LSTM(hidden_dim, return_sequences=True))\n",
        "model.add(TimeDistributed(Dense(vocab_size)))\n",
        "model.add(Activation('softmax'))\n",
        "\n",
        "model.compile(loss='categorical_crossentropy', optimizer='adam')"
      ],
      "execution_count": null,
      "outputs": []
    },
    {
      "cell_type": "code",
      "metadata": {
        "id": "Z6Di3nr3qHW5",
        "colab_type": "code",
        "colab": {}
      },
      "source": [
        "model.fit(X, Y, batch_size=batch_size, verbose=2, epochs=epochs)"
      ],
      "execution_count": null,
      "outputs": []
    },
    {
      "cell_type": "markdown",
      "metadata": {
        "id": "IKXv5WMj5uEj",
        "colab_type": "text"
      },
      "source": [
        "# The Results"
      ]
    },
    {
      "cell_type": "code",
      "metadata": {
        "id": "svurrrctYoNg",
        "colab_type": "code",
        "colab": {}
      },
      "source": [
        "def make_card(model):\n",
        "    name = []\n",
        "    X = np.zeros((1, max_card_len, vocab_size))\n",
        "    end = False\n",
        "    i = 0\n",
        "    \n",
        "    while end == False:\n",
        "        probs = list(model.predict(X)[0,i])\n",
        "        probs = probs / np.sum(probs)\n",
        "        index = np.random.choice(range(vocab_size), p=probs)\n",
        "        if i == max_card_len-2:\n",
        "            character = '.'\n",
        "            end = True\n",
        "        else:\n",
        "            character = ix_to_char[index]\n",
        "        name.append(character)\n",
        "        X[0, i+1, index] = 1\n",
        "        i += 1\n",
        "        if character == '.':\n",
        "            end = True\n",
        "    \n",
        "    return ''.join(name)"
      ],
      "execution_count": null,
      "outputs": []
    },
    {
      "cell_type": "code",
      "metadata": {
        "id": "1E-zALrRYsmj",
        "colab_type": "code",
        "colab": {}
      },
      "source": [
        "for _ in range(10):\n",
        "    print(make_card(model), '\\n')"
      ],
      "execution_count": null,
      "outputs": []
    }
  ]
}